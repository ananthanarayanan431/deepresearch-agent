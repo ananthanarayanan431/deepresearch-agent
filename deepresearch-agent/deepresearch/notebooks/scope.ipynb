{
 "cells": [
  {
   "cell_type": "code",
   "execution_count": 1,
   "id": "74b80fb4",
   "metadata": {},
   "outputs": [],
   "source": [
    "import os\n",
    "import sys\n",
    "\n",
    "# Add project root (parent of notebooks/) to sys.path\n",
    "sys.path.append(os.path.abspath(os.path.join(os.getcwd(), \"..\")))"
   ]
  },
  {
   "cell_type": "code",
   "execution_count": 2,
   "id": "a1e04808",
   "metadata": {},
   "outputs": [
    {
     "data": {
      "text/plain": [
       "[HumanMessage(content='I want to research the best coffee shops in San Francisco.', additional_kwargs={}, response_metadata={}, id='5bef433d-6644-4807-8acd-a3752e521c7c'),\n",
       " AIMessage(content=\"Could you clarify what criteria are most important to you when determining the 'best' coffee shops? For example: quality of coffee, ambiance, Wi-Fi availability, food options, location, or something else?\", additional_kwargs={}, response_metadata={}, id='69dcae8b-5f63-4351-9e59-168c4c8a0a85')]"
      ]
     },
     "execution_count": 2,
     "metadata": {},
     "output_type": "execute_result"
    }
   ],
   "source": [
    "from langchain_core.messages import HumanMessage\n",
    "\n",
    "from deepresearch.agents.scope.graph import scope_graph\n",
    "\n",
    "thread = {\"configurable\": {\"thread_id\": \"1\"}}\n",
    "\n",
    "\n",
    "result = scope_graph.invoke(\n",
    "    {\n",
    "        \"messages\": [\n",
    "            HumanMessage(\n",
    "                content=\"I want to research the best coffee shops in San Francisco.\"\n",
    "            )\n",
    "        ]\n",
    "    },\n",
    "    config=thread,\n",
    ")\n",
    "result[\"messages\"]"
   ]
  },
  {
   "cell_type": "code",
   "execution_count": 3,
   "id": "741d4a92",
   "metadata": {},
   "outputs": [
    {
     "data": {
      "text/plain": [
       "[HumanMessage(content='I want to research the best coffee shops in San Francisco.', additional_kwargs={}, response_metadata={}, id='5bef433d-6644-4807-8acd-a3752e521c7c'),\n",
       " AIMessage(content=\"Could you clarify what criteria are most important to you when determining the 'best' coffee shops? For example: quality of coffee, ambiance, Wi-Fi availability, food options, location, or something else?\", additional_kwargs={}, response_metadata={}, id='69dcae8b-5f63-4351-9e59-168c4c8a0a85'),\n",
       " HumanMessage(content=\"Let's examine coffee quality to assess the best coffee shops in San Francisco.\", additional_kwargs={}, response_metadata={}, id='5bcb48c9-43cf-4777-a5a3-62681c358823'),\n",
       " AIMessage(content='Thank you for clarifying that you would like to focus on coffee quality when assessing the best coffee shops in San Francisco. I now have sufficient information to begin the research and will proceed with identifying top coffee shops in San Francisco based on coffee quality.', additional_kwargs={}, response_metadata={}, id='673d45ed-f3f4-43f2-be45-de3a4070b41e')]"
      ]
     },
     "execution_count": 3,
     "metadata": {},
     "output_type": "execute_result"
    }
   ],
   "source": [
    "result = scope_graph.invoke(\n",
    "    {\n",
    "        \"messages\": [\n",
    "            HumanMessage(\n",
    "                content=\"Let's examine coffee quality to assess the best coffee shops in San Francisco.\"\n",
    "            )\n",
    "        ]\n",
    "    },\n",
    "    config=thread,\n",
    ")\n",
    "result[\"messages\"]"
   ]
  },
  {
   "cell_type": "code",
   "execution_count": 4,
   "id": "1616de3b",
   "metadata": {},
   "outputs": [
    {
     "name": "stdout",
     "output_type": "stream",
     "text": [
      "I want to identify the best coffee shops in San Francisco, focusing specifically on coffee quality as the primary criterion. In assessing coffee quality, please consider factors such as bean sourcing, roasting methods, brewing techniques, and overall taste as evaluated by reputable sources or expert reviews. Other attributes (such as ambiance, Wi-Fi availability, food options, or location) have not been specified by me and should be treated as open considerations, not primary criteria. Unless otherwise stated, consider all price ranges and neighborhoods. Please prioritize information from official coffee shop websites, reputable specialty coffee publications, barista competition results, and expert review platforms, rather than general aggregator sites or blogs.\n"
     ]
    }
   ],
   "source": [
    "print(result[\"research_brief\"])"
   ]
  },
  {
   "cell_type": "code",
   "execution_count": null,
   "id": "971d640f",
   "metadata": {},
   "outputs": [],
   "source": []
  }
 ],
 "metadata": {
  "kernelspec": {
   "display_name": ".venv",
   "language": "python",
   "name": "python3"
  },
  "language_info": {
   "codemirror_mode": {
    "name": "ipython",
    "version": 3
   },
   "file_extension": ".py",
   "mimetype": "text/x-python",
   "name": "python",
   "nbconvert_exporter": "python",
   "pygments_lexer": "ipython3",
   "version": "3.12.7"
  }
 },
 "nbformat": 4,
 "nbformat_minor": 5
}

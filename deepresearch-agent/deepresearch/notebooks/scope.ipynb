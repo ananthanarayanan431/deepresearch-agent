{
 "cells": [
  {
   "cell_type": "code",
   "execution_count": 1,
   "id": "74b80fb4",
   "metadata": {},
   "outputs": [],
   "source": [
    "import os\n",
    "import sys\n",
    "\n",
    "# Add project root (parent of notebooks/) to sys.path\n",
    "sys.path.append(os.path.abspath(os.path.join(os.getcwd(), \"..\")))"
   ]
  },
  {
   "cell_type": "code",
   "execution_count": 3,
   "id": "a1e04808",
   "metadata": {},
   "outputs": [
    {
     "data": {
      "text/plain": [
       "[HumanMessage(content='I want to research the best coffee shops in San Francisco.', additional_kwargs={}, response_metadata={}, id='f757c3b2-dfbe-4aa8-ac06-f76bd0f7bbc9'),\n",
       " AIMessage(content=\"Could you clarify what criteria are most important to you when determining the 'best' coffee shops? For example, are you looking for best coffee quality, ambiance, Wi-Fi availability, food options, or something else?\", additional_kwargs={}, response_metadata={}, id='0e886ef8-c1cf-4ea7-8692-230c4cbc306d')]"
      ]
     },
     "execution_count": 3,
     "metadata": {},
     "output_type": "execute_result"
    }
   ],
   "source": [
    "from langchain_core.messages import HumanMessage\n",
    "\n",
    "from deepresearch.agents.scope.graph import scope_graph\n",
    "\n",
    "thread = {\"configurable\": {\"thread_id\": \"1\"}}\n",
    "\n",
    "\n",
    "result = scope_graph.invoke(\n",
    "    {\n",
    "        \"messages\": [\n",
    "            HumanMessage(\n",
    "                content=\"I want to research the best coffee shops in San Francisco.\"\n",
    "            )\n",
    "        ]\n",
    "    },\n",
    "    config=thread,\n",
    ")\n",
    "result[\"messages\"]"
   ]
  },
  {
   "cell_type": "code",
   "execution_count": 4,
   "id": "741d4a92",
   "metadata": {},
   "outputs": [
    {
     "data": {
      "text/plain": [
       "[HumanMessage(content='I want to research the best coffee shops in San Francisco.', additional_kwargs={}, response_metadata={}, id='f757c3b2-dfbe-4aa8-ac06-f76bd0f7bbc9'),\n",
       " AIMessage(content=\"Could you clarify what criteria are most important to you when determining the 'best' coffee shops? For example, are you looking for best coffee quality, ambiance, Wi-Fi availability, food options, or something else?\", additional_kwargs={}, response_metadata={}, id='0e886ef8-c1cf-4ea7-8692-230c4cbc306d'),\n",
       " HumanMessage(content=\"Let's examine coffee quality to assess the best coffee shops in San Francisco.\", additional_kwargs={}, response_metadata={}, id='688b33bb-863b-4b66-acf9-cf597ab8dda7'),\n",
       " AIMessage(content='Thank you for clarifying that you want to assess the best coffee shops in San Francisco based on coffee quality. I have sufficient information to proceed and will now begin researching coffee shops in San Francisco with a focus on coffee quality.', additional_kwargs={}, response_metadata={}, id='2583e00a-a402-4c95-83aa-439d4c94c8f3')]"
      ]
     },
     "execution_count": 4,
     "metadata": {},
     "output_type": "execute_result"
    }
   ],
   "source": [
    "result = scope_graph.invoke(\n",
    "    {\n",
    "        \"messages\": [\n",
    "            HumanMessage(\n",
    "                content=\"Let's examine coffee quality to assess the best coffee shops in San Francisco.\"\n",
    "            )\n",
    "        ]\n",
    "    },\n",
    "    config=thread,\n",
    ")\n",
    "result[\"messages\"]"
   ]
  },
  {
   "cell_type": "code",
   "execution_count": 7,
   "id": "1616de3b",
   "metadata": {},
   "outputs": [
    {
     "name": "stdout",
     "output_type": "stream",
     "text": [
      "I want to identify and evaluate the best coffee shops in San Francisco, focusing specifically on coffee quality as the primary criterion. In assessing coffee quality, I am interested in factors such as bean sourcing, roasting methods, brewing techniques, and overall taste. Other aspects such as ambiance, Wi-Fi availability, food options, price range, and location have not been specified and should be considered open unless directly relevant to coffee quality. Please prioritize information from official coffee shop websites, reputable coffee review platforms, and authoritative sources on coffee quality. Include specific examples and direct links to official sources where possible.\n"
     ]
    }
   ],
   "source": [
    "print(result[\"research_brief\"])"
   ]
  },
  {
   "cell_type": "code",
   "execution_count": null,
   "id": "971d640f",
   "metadata": {},
   "outputs": [],
   "source": []
  }
 ],
 "metadata": {
  "kernelspec": {
   "display_name": ".venv",
   "language": "python",
   "name": "python3"
  },
  "language_info": {
   "codemirror_mode": {
    "name": "ipython",
    "version": 3
   },
   "file_extension": ".py",
   "mimetype": "text/x-python",
   "name": "python",
   "nbconvert_exporter": "python",
   "pygments_lexer": "ipython3",
   "version": "3.12.7"
  }
 },
 "nbformat": 4,
 "nbformat_minor": 5
}

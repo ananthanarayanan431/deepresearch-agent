{
 "cells": [
  {
   "cell_type": "code",
   "execution_count": 1,
   "id": "57b1270d",
   "metadata": {},
   "outputs": [],
   "source": [
    "import os\n",
    "import sys\n",
    "\n",
    "# Add project root (parent of notebooks/) to sys.path\n",
    "sys.path.append(os.path.abspath(os.path.join(os.getcwd(), \"..\")))"
   ]
  },
  {
   "cell_type": "code",
   "execution_count": 3,
   "id": "ae434412",
   "metadata": {},
   "outputs": [],
   "source": [
    "from langgraph.checkpoint.memory import InMemorySaver\n",
    "\n",
    "from deepresearch.agents.writer.graph import deep_researcher_builder\n",
    "\n",
    "checkpointer = InMemorySaver()\n",
    "full_agent = deep_researcher_builder.compile(checkpointer=checkpointer)"
   ]
  },
  {
   "cell_type": "code",
   "execution_count": 4,
   "id": "1740800a",
   "metadata": {},
   "outputs": [
    {
     "data": {
      "text/plain": [
       "[HumanMessage(content='Compare Gemini to OpenAI Deep Research agents.', additional_kwargs={}, response_metadata={}, id='ab3f81a1-350d-42a0-a36e-4156ca005f71'),\n",
       " AIMessage(content=\"Could you specify what you mean by 'Gemini'? Are you referring to Google's Gemini AI, or another system? Also, by 'OpenAI Deep Research agents', are you referring to a specific product, the general class of research-oriented AI agents from OpenAI, or something else?\", additional_kwargs={}, response_metadata={}, id='cd864fd6-29a8-42bc-8b4c-b7f04ef95853')]"
      ]
     },
     "execution_count": 4,
     "metadata": {},
     "output_type": "execute_result"
    }
   ],
   "source": [
    "from langchain_core.messages import HumanMessage\n",
    "\n",
    "thread = {\"configurable\": {\"thread_id\": \"1\", \"recursion_limit\": 50}}\n",
    "result = await full_agent.ainvoke(\n",
    "    {\n",
    "        \"messages\": [\n",
    "            HumanMessage(content=\"Compare Gemini to OpenAI Deep Research agents.\")\n",
    "        ]\n",
    "    },\n",
    "    config=thread,\n",
    ")\n",
    "result[\"messages\"]"
   ]
  },
  {
   "cell_type": "code",
   "execution_count": 5,
   "id": "b0bdb0f5",
   "metadata": {},
   "outputs": [],
   "source": [
    "result = await full_agent.ainvoke(\n",
    "    {\"messages\": [HumanMessage(content=\"Yes the specific Deep Research products.\")]},\n",
    "    config=thread,\n",
    ")"
   ]
  },
  {
   "cell_type": "code",
   "execution_count": null,
   "id": "94e1299b",
   "metadata": {},
   "outputs": [],
   "source": [
    "from rich.markdown import Markdown\n",
    "\n",
    "Markdown(result[\"final_report\"])"
   ]
  }
 ],
 "metadata": {
  "kernelspec": {
   "display_name": ".venv",
   "language": "python",
   "name": "python3"
  },
  "language_info": {
   "codemirror_mode": {
    "name": "ipython",
    "version": 3
   },
   "file_extension": ".py",
   "mimetype": "text/x-python",
   "name": "python",
   "nbconvert_exporter": "python",
   "pygments_lexer": "ipython3",
   "version": "3.12.7"
  }
 },
 "nbformat": 4,
 "nbformat_minor": 5
}
